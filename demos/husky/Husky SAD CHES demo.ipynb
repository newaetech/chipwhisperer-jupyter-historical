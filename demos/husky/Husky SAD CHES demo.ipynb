{
 "cells": [
  {
   "cell_type": "markdown",
   "id": "c360c7e0-245f-45a3-b665-a6eac290b13d",
   "metadata": {},
   "source": [
    "# CW-Husky SAD Triggering Demo"
   ]
  },
  {
   "cell_type": "markdown",
   "id": "caaf235d-778b-4cf5-ac20-ccdd4304e922",
   "metadata": {},
   "source": [
    "# Setup:"
   ]
  },
  {
   "cell_type": "code",
   "execution_count": null,
   "id": "0ab4a5eb-f9d6-411c-9d56-344fb8599a8e",
   "metadata": {},
   "outputs": [],
   "source": [
    "PLATFORM = 'CW308_SAM4S'\n",
    "SS_VER = \"SS_VER_1_1\""
   ]
  },
  {
   "cell_type": "code",
   "execution_count": null,
   "id": "e89ee96b-d54d-468a-b5bb-e9a3baebbf99",
   "metadata": {},
   "outputs": [],
   "source": [
    "import chipwhisperer as cw"
   ]
  },
  {
   "cell_type": "code",
   "execution_count": null,
   "id": "2b1a17b8-590c-499f-a6f8-c195cded9dda",
   "metadata": {
    "tags": []
   },
   "outputs": [],
   "source": [
    "%run ../../Setup_Scripts/Setup_Generic.ipynb"
   ]
  },
  {
   "cell_type": "code",
   "execution_count": null,
   "id": "50512803-38d2-4868-98e9-542ee7ba5ebd",
   "metadata": {},
   "outputs": [],
   "source": [
    "scope.fpga_buildtime"
   ]
  },
  {
   "cell_type": "markdown",
   "id": "58d61232-eb02-4d14-b515-4683aa99398b",
   "metadata": {},
   "source": [
    "# **Target #1: Software AES**"
   ]
  },
  {
   "cell_type": "code",
   "execution_count": null,
   "id": "c0956664-f386-4f67-9da7-a102120578ff",
   "metadata": {},
   "outputs": [],
   "source": [
    "cw.program_target(scope, prog, \"firmware/simpleserial-aes-{}.hex\".format(PLATFORM))"
   ]
  },
  {
   "cell_type": "code",
   "execution_count": null,
   "id": "5c79033b-d1a5-40aa-be6f-25856d90e80b",
   "metadata": {},
   "outputs": [],
   "source": [
    "reset_target(scope)"
   ]
  },
  {
   "cell_type": "code",
   "execution_count": null,
   "id": "1b1e23ee-ded2-4e79-b307-515f3f46d7eb",
   "metadata": {},
   "outputs": [],
   "source": [
    "scope.trigger.module = 'basic'\n",
    "scope.trigger.triggers = 'tio4'\n",
    "\n",
    "scope.adc.samples = 35000\n",
    "scope.adc.presamples = 0\n",
    "scope.adc.segments = 1\n",
    "scope.adc.bits_per_sample = 8  # SAD is done at 8 bits per sample"
   ]
  },
  {
   "cell_type": "code",
   "execution_count": null,
   "id": "333c4459-248a-4a98-99d4-5fe9521b903d",
   "metadata": {},
   "outputs": [],
   "source": [
    "reftrace = cw.capture_trace(scope, target, bytearray(16), bytearray(16), as_int=True)"
   ]
  },
  {
   "cell_type": "code",
   "execution_count": null,
   "id": "0ce63ac7-0f78-45e9-b2a0-ad4d07d75d9b",
   "metadata": {},
   "outputs": [],
   "source": [
    "refstart = 14570"
   ]
  },
  {
   "cell_type": "code",
   "execution_count": null,
   "id": "dd03d394-50b0-4602-8c05-ae1698da8f2e",
   "metadata": {},
   "outputs": [],
   "source": [
    "from bokeh.plotting import figure, show\n",
    "from bokeh.io import output_notebook\n",
    "from bokeh.models import Span\n",
    "output_notebook()\n",
    "\n",
    "#p = figure(plot_width=1800)\n",
    "p = figure(plot_width=1800, tools='pan, box_zoom, hover, reset, save')\n",
    "\n",
    "xrange = range(len(reftrace.wave))\n",
    "p.line(xrange, reftrace.wave)\n",
    "p.renderers.extend([Span(location=refstart, dimension='height', line_color='black', line_width=2)])\n",
    "p.renderers.extend([Span(location=refstart+scope.SAD.sad_reference_length, dimension='height', line_color='black', line_width=2)])\n",
    "\n",
    "show(p)"
   ]
  },
  {
   "cell_type": "markdown",
   "id": "d759d116-d64a-4f3d-87b5-3223631e75c5",
   "metadata": {},
   "source": [
    "# Calculating SAD in software\n",
    "- very slow! Husky hardware does this in the blink of an eye\n",
    "- SW model is configured with `scope.SAD`, so there is no need to transfer model specs to the hardware scope "
   ]
  },
  {
   "cell_type": "code",
   "execution_count": null,
   "id": "9c924f73-3d8d-4de0-8dd3-15c728182ab1",
   "metadata": {},
   "outputs": [],
   "source": [
    "scope.SAD.reference = reftrace.wave[refstart:]\n",
    "scope.SAD.threshold = 30\n",
    "scope.SAD.interval_threshold = 20\n",
    "scope.SAD.multiple_triggers = True\n",
    "scope.SAD.emode = False"
   ]
  },
  {
   "cell_type": "code",
   "execution_count": null,
   "id": "7dd53fc0-a68e-4fc3-b42e-f868da1f156d",
   "metadata": {
    "tags": []
   },
   "outputs": [],
   "source": [
    "sad_model = cw.SADModelWrapper(scope.SAD, catch_emisses=False, verbose=False)\n",
    "sad_model.run(reftrace.wave)\n",
    "print(sad_model)"
   ]
  },
  {
   "cell_type": "markdown",
   "id": "2a511ce1-331e-491c-a093-c314aed46c16",
   "metadata": {},
   "source": [
    "We should have matched on each of the 10 rounds:"
   ]
  },
  {
   "cell_type": "code",
   "execution_count": null,
   "id": "f794970e-920b-40c4-8229-4d4056491a53",
   "metadata": {},
   "outputs": [],
   "source": [
    "assert len(sad_model.match_times) == 10"
   ]
  },
  {
   "cell_type": "code",
   "execution_count": null,
   "id": "66b8608a-ef83-414f-84c0-58a45173fc40",
   "metadata": {},
   "outputs": [],
   "source": [
    "p = figure(plot_width=1800)\n",
    "dat = sad_model.SADS\n",
    "\n",
    "xrange = range(len(dat))\n",
    "p.line(xrange, dat)\n",
    "p.renderers.extend([Span(location=scope.SAD.threshold, dimension='width', line_color='red', line_width=2)])\n",
    "show(p)"
   ]
  },
  {
   "cell_type": "markdown",
   "id": "1d403987-dfc2-4a75-95c0-6d7ae47387cd",
   "metadata": {},
   "source": [
    "# Hardware SAD Triggering with the SAD Explorer"
   ]
  },
  {
   "cell_type": "code",
   "execution_count": null,
   "id": "b7ca9002-bdb5-49e8-9533-f66c9e6e3e49",
   "metadata": {},
   "outputs": [],
   "source": [
    "scope.trigger.module = 'SAD'\n",
    "scope.adc.samples = 300\n",
    "scope.adc.segments = 10\n",
    "scope.adc.timeout = 0.1"
   ]
  },
  {
   "cell_type": "code",
   "execution_count": null,
   "id": "c97ebe67-0463-41e2-af96-3fd1a0c743cc",
   "metadata": {
    "tags": []
   },
   "outputs": [],
   "source": [
    "explorer = cw.SADExplorer(scope, target, reftrace.wave, refstart, max_segments=10)"
   ]
  },
  {
   "cell_type": "markdown",
   "id": "be5c2e83-cd30-4f70-b0ed-1027f3e61714",
   "metadata": {},
   "source": [
    "### Things to try:\n",
    "1. The first round has a few samples at the start that diverge considerably from the reference; exclude those samples and make the thresholds tighter. The \"show diff\" option can be helpful here.\n",
    "2. Turn on \"emode\".\n",
    "3. What happens when you make the thresholds much too loose, or exclude too many samples?\n",
    "4. Increase `scope.adc.samples` and `scope.adc.presamples` to hunt around for a better `refstart` nearby.\n",
    "5. How small can you make `scope.SAD.trigger_sample` and still reliably capture all 10 rounds? *(be sure to check that the trigger times are still good)*\n",
    "6. Try to find a totally different reference segment that works well."
   ]
  },
  {
   "cell_type": "markdown",
   "id": "9bf447a9-d229-42c7-8835-c8182c7f6026",
   "metadata": {},
   "source": [
    "*known good parameters in hidden cell below in case the notebook gets messed up:*"
   ]
  },
  {
   "cell_type": "code",
   "execution_count": null,
   "id": "fdd96f9c-ba8e-44ac-abc5-6f879fc434ab",
   "metadata": {
    "jupyter": {
     "source_hidden": true
    },
    "tags": []
   },
   "outputs": [],
   "source": [
    "refstart = 14570\n",
    "scope.SAD.threshold = 30 # increase for emode due to half-threshold effect\n",
    "scope.SAD.interval_threshold = 20\n",
    "scope.SAD.emode = False\n",
    "scope.SAD.always_armed = False\n",
    "scope.SAD.reference = reftrace.wave[refstart:]\n",
    "\n",
    "scope.adc.stream_mode = False\n",
    "scope.adc.samples = 300\n",
    "scope.adc.segments = 10"
   ]
  },
  {
   "cell_type": "code",
   "execution_count": null,
   "id": "a104cfc1-6fc4-4450-839c-1992da97151c",
   "metadata": {
    "jupyter": {
     "source_hidden": true
    },
    "tags": []
   },
   "outputs": [],
   "source": [
    "# For #5 (advanced trigger), these are nice settings:\n",
    "refstart = 14610\n",
    "scope.SAD.emode = False\n",
    "scope.SAD.threshold = 3\n",
    "scope.SAD.interval_threshold = 20\n",
    "scope.SAD.trigger_sample = 56"
   ]
  },
  {
   "cell_type": "code",
   "execution_count": null,
   "id": "55fd9547-1ad9-4424-a7ec-8e7cf01ce3fb",
   "metadata": {
    "jupyter": {
     "source_hidden": true
    },
    "tags": []
   },
   "outputs": [],
   "source": [
    "# Using random key/plaintext:\n",
    "ktp = cw.ktp.Basic()\n",
    "key, text = ktp.next()\n",
    "explorer = cw.SADExplorer(scope, target, reftrace.wave, refstart, max_segments=10, capture_function=lambda: cw.capture_trace(scope, target, key, text, as_int=True))"
   ]
  },
  {
   "cell_type": "markdown",
   "id": "91f60531-d7f2-4efb-9d77-ac5637160160",
   "metadata": {},
   "source": [
    "# **Target #2: Software ECC**"
   ]
  },
  {
   "cell_type": "code",
   "execution_count": null,
   "id": "ba6a3166-358c-4d08-b466-889911879ee6",
   "metadata": {},
   "outputs": [],
   "source": [
    "cw.program_target(scope, prog, \"firmware/simpleserial-ecc-fwtrigger-{}.hex\".format(PLATFORM))\n",
    "reset_target(scope)"
   ]
  },
  {
   "cell_type": "code",
   "execution_count": null,
   "id": "520ae2a3-3769-41a0-b664-35783c2b7c03",
   "metadata": {},
   "outputs": [],
   "source": [
    "target.simpleserial_write('i', b'')\n",
    "time.sleep(0.1)\n",
    "print(target.read())"
   ]
  },
  {
   "cell_type": "code",
   "execution_count": null,
   "id": "50198af5-3c7a-41ce-8ce5-8a8ce8f354f1",
   "metadata": {},
   "outputs": [],
   "source": [
    "TRACES = 'HARDWARE'\n",
    "%run \"../../courses/sca205/ECC_capture.ipynb\""
   ]
  },
  {
   "cell_type": "code",
   "execution_count": null,
   "id": "1e7c327d-fb1c-4e4a-8b1b-8290f8a4125c",
   "metadata": {},
   "outputs": [],
   "source": [
    "scope.trigger.module = 'basic'\n",
    "scope.trigger.triggers = 'tio4'\n",
    "\n",
    "scope.adc.stream_mode = True\n",
    "scope.adc.presamples = 0\n",
    "scope.adc.samples = int(16e6)\n",
    "scope.adc.segments = 1"
   ]
  },
  {
   "cell_type": "markdown",
   "id": "12e5df75-c42c-498a-b502-308e9e7f8484",
   "metadata": {},
   "source": [
    "The micro-ecc target firmware is not constant time; in order to have a known good SAD reference, we stick to these parameters:"
   ]
  },
  {
   "cell_type": "code",
   "execution_count": null,
   "id": "992b7c9f-faa0-4a02-84a6-b32c16eda5f2",
   "metadata": {},
   "outputs": [],
   "source": [
    "k = 0x526a13ac66957d13622a9d872ff9302c47d6393237efaa4c0fc92c08febc5d2c\n",
    "Px = 0xe479bb253840235126427b2cdff9a862601e1577c2abbc274d4b5372a45656ec\n",
    "Py = 0x561fbeb30f276006b91ba1b81df8e3f3edf40f8ea000593b3a622610af02a50"
   ]
  },
  {
   "cell_type": "code",
   "execution_count": null,
   "id": "6c436bb1-7105-474d-9a89-ba9865f29b61",
   "metadata": {},
   "outputs": [],
   "source": [
    "# try different k / Px / Py!\n",
    "#k = random_k()\n",
    "#Px, Py = new_point()"
   ]
  },
  {
   "cell_type": "code",
   "execution_count": null,
   "id": "763efdf0-e762-463d-824c-0e39e459739c",
   "metadata": {},
   "outputs": [],
   "source": [
    "reftrace = capture_ecc_trace(k, Px, Py)\n",
    "scope.errors.clear()\n",
    "print(scope.adc.trig_count)\n",
    "assert scope.adc.trig_count == 15788560"
   ]
  },
  {
   "cell_type": "code",
   "execution_count": null,
   "id": "692bd6e2-4f15-468a-ab5d-67eb47160ecb",
   "metadata": {},
   "outputs": [],
   "source": [
    "import holoviews as hv\n",
    "from holoviews.operation import decimate\n",
    "from holoviews.operation.datashader import datashade\n",
    "hv.extension('bokeh')\n",
    "datashade(hv.Curve(reftrace.wave)).opts(width=2000, height=900)"
   ]
  },
  {
   "cell_type": "markdown",
   "id": "fa1e9edf-4884-4cdd-bb52-0b58301b6944",
   "metadata": {},
   "source": [
    "The target firmware triggers at the start of each bit being processed by the point multiplication algorithm; let's peak at how long each bit takes:"
   ]
  },
  {
   "cell_type": "code",
   "execution_count": null,
   "id": "78646996-e84b-4130-b395-161a5ba27e47",
   "metadata": {},
   "outputs": [],
   "source": [
    "ttimes = scope.trigger.get_trigger_times()"
   ]
  },
  {
   "cell_type": "code",
   "execution_count": null,
   "id": "35dfc465-c53b-4498-bb6e-b93baf21128d",
   "metadata": {},
   "outputs": [],
   "source": [
    "print(ttimes[:10])\n",
    "print('Min: %d' % min(ttimes))\n",
    "print('Max: %d' % max(ttimes))\n",
    "\n",
    "# sanity check:\n",
    "assert min(ttimes) == 105024 and max(ttimes) == 110900"
   ]
  },
  {
   "cell_type": "code",
   "execution_count": null,
   "id": "572cf727-e99b-41b4-aae7-a3bb0d47e65c",
   "metadata": {},
   "outputs": [],
   "source": [
    "scope.SAD.emode = True\n",
    "refstart = 1028600"
   ]
  },
  {
   "cell_type": "markdown",
   "id": "ead767a3-2fdd-4198-b1bc-f33035cabbf4",
   "metadata": {},
   "source": [
    "Let's plot a subset of the reference trace that covers about 3 bits somewhere in the middle of the operation:"
   ]
  },
  {
   "cell_type": "code",
   "execution_count": null,
   "id": "34633ef2-1c9f-49f8-836e-1c55b2ecdaf8",
   "metadata": {},
   "outputs": [],
   "source": [
    "from bokeh.plotting import figure, show\n",
    "from bokeh.io import output_notebook\n",
    "from bokeh.models import Span\n",
    "\n",
    "start = int(1e6)\n",
    "samples = 300000\n",
    "output_notebook()\n",
    "p = figure(plot_width=1800, tools='pan, box_zoom, hover, reset, save')\n",
    "\n",
    "xrange = range(samples)\n",
    "p.line(xrange, reftrace.wave[start:start+samples])\n",
    "\n",
    "p.renderers.extend([Span(location=refstart-start, dimension='height', line_color='black', line_width=1)])\n",
    "p.renderers.extend([Span(location=refstart-start+scope.SAD.sad_reference_length, dimension='height', line_color='black', line_width=1)])\n",
    "\n",
    "show(p)"
   ]
  },
  {
   "cell_type": "code",
   "execution_count": null,
   "id": "35cba50b-9fbe-4c3c-9a0a-0dc30afd05bc",
   "metadata": {},
   "outputs": [],
   "source": [
    "scope.trigger.module = 'SAD'\n",
    "scope.SAD.threshold = 15\n",
    "scope.SAD.interval_threshold = 20\n",
    "scope.SAD.emode = True\n",
    "scope.SAD.always_armed = False\n",
    "scope.SAD.multiple_triggers = True\n",
    "scope.SAD.reference = reftrace.wave[refstart:]\n",
    "scope.adc.stream_mode = False"
   ]
  },
  {
   "cell_type": "code",
   "execution_count": null,
   "id": "f002aa54-6916-4ac9-b419-0cdf40ec4ce7",
   "metadata": {},
   "outputs": [],
   "source": [
    "explorer = cw.SADExplorer(scope, target, reftrace.wave, refstart, max_segments=255, capture_function=lambda: capture_ecc_trace(k, Px, Py))"
   ]
  },
  {
   "cell_type": "markdown",
   "id": "1bafd7a7-b2d7-46cf-8e44-9fa98337165d",
   "metadata": {},
   "source": [
    "## Things to try:\n",
    "1. Turn on `scope.adc.always_armed` to make sure that 255 matches are seen.\n",
    "2. If you turn off `scope.SAD.emode`, you can capture all 255 segments.\n",
    "3. How few samples are needed to reliably match? (reduce `scope.SAD.trigger_sample`).\n",
    "4. We used a specific k/Px/Py to find our SAD reference. If you change any/all of k/Px/Py, does that reference still work?\n",
    "5. Can you find another suitable SAD reference?"
   ]
  },
  {
   "cell_type": "code",
   "execution_count": null,
   "id": "63ff2f01-e8f2-495c-9131-3359d904a7e8",
   "metadata": {},
   "outputs": [],
   "source": [
    "# to use different k / Px / Py:\n",
    "k = random_k()\n",
    "Px, Py = new_point()"
   ]
  },
  {
   "cell_type": "markdown",
   "id": "bdab8a0c-0399-4a23-9622-2d264927a736",
   "metadata": {
    "tags": []
   },
   "source": [
    "*known good parameters in hidden cell below:*"
   ]
  },
  {
   "cell_type": "code",
   "execution_count": null,
   "id": "20a14be6-c230-49e2-bf3d-e23c0edd5135",
   "metadata": {
    "jupyter": {
     "source_hidden": true
    },
    "tags": []
   },
   "outputs": [],
   "source": [
    "refstart = 1028600\n",
    "\n",
    "# re-acquire reftrace if these changed!\n",
    "k = 0x526a13ac66957d13622a9d872ff9302c47d6393237efaa4c0fc92c08febc5d2c\n",
    "Px = 0xe479bb253840235126427b2cdff9a862601e1577c2abbc274d4b5372a45656ec\n",
    "Py = 0x561fbeb30f276006b91ba1b81df8e3f3edf40f8ea000593b3a622610af02a50\n",
    "\n",
    "scope.SAD.threshold = 15\n",
    "scope.SAD.interval_threshold = 20\n",
    "scope.SAD.emode = True\n",
    "scope.SAD.always_armed = False\n",
    "scope.SAD.reference = reftrace.wave[refstart:]\n",
    "\n",
    "scope.adc.stream_mode = False\n",
    "scope.adc.samples = 450\n",
    "scope.adc.segments = 200"
   ]
  },
  {
   "cell_type": "code",
   "execution_count": null,
   "id": "b2f0f0a8-6843-4b72-bdfe-01f74759d3ad",
   "metadata": {},
   "outputs": [],
   "source": []
  },
  {
   "cell_type": "code",
   "execution_count": null,
   "id": "63fa65c3-dd6f-4333-9572-997fa99fb337",
   "metadata": {},
   "outputs": [],
   "source": []
  }
 ],
 "metadata": {
  "kernelspec": {
   "display_name": "Python 3 (ipykernel)",
   "language": "python",
   "name": "python3"
  },
  "language_info": {
   "codemirror_mode": {
    "name": "ipython",
    "version": 3
   },
   "file_extension": ".py",
   "mimetype": "text/x-python",
   "name": "python",
   "nbconvert_exporter": "python",
   "pygments_lexer": "ipython3",
   "version": "3.9.7"
  }
 },
 "nbformat": 4,
 "nbformat_minor": 5
}
